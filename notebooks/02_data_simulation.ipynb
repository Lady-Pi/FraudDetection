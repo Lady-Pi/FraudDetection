{
 "cells": [
  {
   "metadata": {},
   "cell_type": "markdown",
   "source": "## Data Simulation",
   "id": "99da1bc18882d2f3"
  },
  {
   "metadata": {},
   "cell_type": "markdown",
   "source": [
    "-  Monthly retraining trigger - GitHub Actions will retrain monthly\n",
    "- Threshold-based drift retraining - Performance drop ≥ 5% will trigger retraining\n",
    "- One year simulation - 12 months of data with realistic patterns\n",
    "- Controlled drift testing - Months 6, 9, 11 will test drift detection"
   ],
   "id": "6a1d2a551d581e78"
  },
  {
   "metadata": {},
   "cell_type": "markdown",
   "source": "**Step 1: Setting up the environment**",
   "id": "1713f25d5a5869b8"
  },
  {
   "metadata": {
    "ExecuteTime": {
     "end_time": "2025-08-26T13:51:59.823019Z",
     "start_time": "2025-08-26T13:51:59.820543Z"
    }
   },
   "cell_type": "code",
   "source": [
    "import pandas as pd\n",
    "import numpy as np\n",
    "import os\n",
    "from pathlib import Path\n",
    "import json\n",
    "from datetime import datetime\n",
    "import warnings\n",
    "import kagglehub\n",
    "import mlflow\n",
    "warnings.filterwarnings('ignore')"
   ],
   "id": "71395579da44368c",
   "outputs": [],
   "execution_count": 6
  },
  {
   "metadata": {
    "ExecuteTime": {
     "end_time": "2025-08-26T13:51:59.833440Z",
     "start_time": "2025-08-26T13:51:59.830854Z"
    }
   },
   "cell_type": "code",
   "source": [
    "# Set random seed for reproducibility\n",
    "np.random.seed(42)"
   ],
   "id": "1f1a0e774e3cd387",
   "outputs": [],
   "execution_count": 7
  },
  {
   "metadata": {
    "ExecuteTime": {
     "end_time": "2025-08-26T13:51:59.851194Z",
     "start_time": "2025-08-26T13:51:59.843799Z"
    }
   },
   "cell_type": "code",
   "source": [
    "# Create directory structure\n",
    "PROJECT_ROOT = Path(r\"C:\\Users\\lvand\\PycharmProjects\\fraud-detection-mlops\").resolve()\n",
    "\n",
    "# Kaggle location\n",
    "RAW_DIR = Path(r\"C:\\Users\\lvand\\.cache\\kagglehub\\datasets\\prajwaldongre\\loan-application-and-transaction-fraud-detection\\versions\\1\")\n",
    "\n",
    "# Project folders\n",
    "DATA_DIR        = PROJECT_ROOT / \"data\"\n",
    "MONTHLY_DIR     = DATA_DIR / \"monthly\"\n",
    "MODELS_DIR      = PROJECT_ROOT / \"models\"\n",
    "CURRENT_DIR     = MODELS_DIR / \"current\"\n",
    "ARCHIVE_DIR     = MODELS_DIR / \"archive\"\n",
    "METRICS_DIR     = PROJECT_ROOT / \"metrics\"\n",
    "ARTIFACTS_DIR   = METRICS_DIR / \"artifacts\"\n",
    "MLRUNS_DIR      = PROJECT_ROOT / \"mlruns\"\n",
    "\n",
    "for d in [MONTHLY_DIR, CURRENT_DIR, ARCHIVE_DIR, ARTIFACTS_DIR, MLRUNS_DIR]:\n",
    "    d.mkdir(parents=True, exist_ok=True)\n",
    "\n",
    "mlflow.set_tracking_uri(MLRUNS_DIR.as_uri())\n",
    "mlflow.set_experiment(\"fraud_detection_baseline\")\n",
    "\n",
    "def raw_path(*parts) -> Path:\n",
    "    return RAW_DIR.joinpath(*parts)\n",
    "\n",
    "def month_path(month: str, *parts) -> Path:\n",
    "    return MONTHLY_DIR.joinpath(month, *parts)\n",
    "\n",
    "print(\"PROJECT_ROOT:\", PROJECT_ROOT)\n",
    "print(\"RAW_DIR:\", RAW_DIR)\n",
    "print(\"MONTHLY_DIR:\", MONTHLY_DIR)\n",
    "print(\"MLflow tracking URI:\", mlflow.get_tracking_uri())"
   ],
   "id": "5e9c7ba9eb0778e7",
   "outputs": [
    {
     "name": "stdout",
     "output_type": "stream",
     "text": [
      "PROJECT_ROOT: C:\\Users\\lvand\\PycharmProjects\\fraud-detection-mlops\n",
      "RAW_DIR: C:\\Users\\lvand\\.cache\\kagglehub\\datasets\\prajwaldongre\\loan-application-and-transaction-fraud-detection\\versions\\1\n",
      "MONTHLY_DIR: C:\\Users\\lvand\\PycharmProjects\\fraud-detection-mlops\\data\\monthly\n",
      "MLflow tracking URI: file:///C:/Users/lvand/PycharmProjects/fraud-detection-mlops/mlruns\n"
     ]
    }
   ],
   "execution_count": 8
  },
  {
   "metadata": {},
   "cell_type": "markdown",
   "source": "**Step 2. Load dataset**",
   "id": "5e1ccbca7e35515c"
  },
  {
   "metadata": {
    "ExecuteTime": {
     "end_time": "2025-08-26T13:52:00.467608Z",
     "start_time": "2025-08-26T13:51:59.887471Z"
    }
   },
   "cell_type": "code",
   "source": [
    "# Download dataset\n",
    "path = kagglehub.dataset_download(\"prajwaldongre/loan-application-and-transaction-fraud-detection\")\n",
    "\n",
    "print(\"Path to dataset files:\", path)"
   ],
   "id": "d6d264965b7db1da",
   "outputs": [
    {
     "name": "stdout",
     "output_type": "stream",
     "text": [
      "Path to dataset files: C:\\Users\\lvand\\.cache\\kagglehub\\datasets\\prajwaldongre\\loan-application-and-transaction-fraud-detection\\versions\\1\n"
     ]
    }
   ],
   "execution_count": 9
  },
  {
   "metadata": {
    "ExecuteTime": {
     "end_time": "2025-08-26T13:52:00.746297Z",
     "start_time": "2025-08-26T13:52:00.498765Z"
    }
   },
   "cell_type": "code",
   "source": [
    "# Load datasets\n",
    "loans_df = pd.read_csv(os.path.join(path, 'loan_applications.csv'))\n",
    "transactions_df = pd.read_csv(os.path.join(path, 'transactions.csv'))\n",
    "\n",
    "print(f\"\\nLoan Applications: {loans_df.shape}\")\n",
    "print(f\"Transactions: {transactions_df.shape}\")\n",
    "print(f\"Original fraud rate (loans): {loans_df['fraud_flag'].mean():.3f}\")\n",
    "print(f\"Original fraud rate (transactions): {transactions_df['fraud_flag'].mean():.3f}\")\n",
    "\n",
    "# Display first few rows\n",
    "print(\"\\nLoan Applications columns:\")\n",
    "print(loans_df.columns.tolist())\n",
    "print(\"\\nTransactions columns:\")\n",
    "print(transactions_df.columns.tolist())"
   ],
   "id": "5f0baeb4fc972c0b",
   "outputs": [
    {
     "name": "stdout",
     "output_type": "stream",
     "text": [
      "\n",
      "Loan Applications: (50000, 21)\n",
      "Transactions: (50000, 16)\n",
      "Original fraud rate (loans): 0.021\n",
      "Original fraud rate (transactions): 0.010\n",
      "\n",
      "Loan Applications columns:\n",
      "['application_id', 'customer_id', 'application_date', 'loan_type', 'loan_amount_requested', 'loan_tenure_months', 'interest_rate_offered', 'purpose_of_loan', 'employment_status', 'monthly_income', 'cibil_score', 'existing_emis_monthly', 'debt_to_income_ratio', 'property_ownership_status', 'residential_address', 'applicant_age', 'gender', 'number_of_dependents', 'loan_status', 'fraud_flag', 'fraud_type']\n",
      "\n",
      "Transactions columns:\n",
      "['transaction_id', 'customer_id', 'transaction_date', 'transaction_type', 'transaction_amount', 'merchant_category', 'merchant_name', 'transaction_location', 'account_balance_after_transaction', 'is_international_transaction', 'device_used', 'ip_address', 'transaction_status', 'transaction_source_destination', 'transaction_notes', 'fraud_flag']\n"
     ]
    }
   ],
   "execution_count": 10
  },
  {
   "metadata": {},
   "cell_type": "markdown",
   "source": "**Step 3: Create baseline monthly splits**",
   "id": "4c303b127f1c3646"
  },
  {
   "metadata": {
    "ExecuteTime": {
     "end_time": "2025-08-26T13:52:00.805997Z",
     "start_time": "2025-08-26T13:52:00.757866Z"
    }
   },
   "cell_type": "code",
   "source": [
    "# Create month assignments for loans (chronological split)\n",
    "loans_df_sorted = loans_df.copy().reset_index(drop=True)\n",
    "n_loans = len(loans_df_sorted)\n",
    "base_size = n_loans // 12\n",
    "remainder = n_loans % 12\n",
    "\n",
    "# Assign month numbers\n",
    "month_assignments = []\n",
    "start_idx = 0\n",
    "\n",
    "for month in range(1, 13):\n",
    "    # Add one extra record to first 'remainder' months\n",
    "    month_size = base_size + (1 if month <= remainder else 0)\n",
    "    month_assignments.extend([month] * month_size)\n",
    "\n",
    "    end_idx = start_idx + month_size\n",
    "    print(f\"Month {month:02d}: records {start_idx} to {end_idx-1} ({month_size} loans)\")\n",
    "    start_idx = end_idx\n",
    "\n",
    "loans_df_sorted['month'] = month_assignments\n",
    "\n",
    "# Assign transactions to same months as their corresponding loans\n",
    "transactions_with_month = transactions_df.merge(\n",
    "    loans_df_sorted[['customer_id', 'month']],\n",
    "    on='customer_id',\n",
    "    how='left'\n",
    ")\n",
    "\n",
    "print(f\"\\nTransaction month assignment success rate: {(~transactions_with_month['month'].isna()).mean():.3f}\")"
   ],
   "id": "9dfe9b8d6edaa958",
   "outputs": [
    {
     "name": "stdout",
     "output_type": "stream",
     "text": [
      "Month 01: records 0 to 4166 (4167 loans)\n",
      "Month 02: records 4167 to 8333 (4167 loans)\n",
      "Month 03: records 8334 to 12500 (4167 loans)\n",
      "Month 04: records 12501 to 16667 (4167 loans)\n",
      "Month 05: records 16668 to 20834 (4167 loans)\n",
      "Month 06: records 20835 to 25001 (4167 loans)\n",
      "Month 07: records 25002 to 29168 (4167 loans)\n",
      "Month 08: records 29169 to 33335 (4167 loans)\n",
      "Month 09: records 33336 to 37501 (4166 loans)\n",
      "Month 10: records 37502 to 41667 (4166 loans)\n",
      "Month 11: records 41668 to 45833 (4166 loans)\n",
      "Month 12: records 45834 to 49999 (4166 loans)\n",
      "\n",
      "Transaction month assignment success rate: 0.967\n"
     ]
    }
   ],
   "execution_count": 11
  },
  {
   "metadata": {},
   "cell_type": "markdown",
   "source": "**Step 4: Save baseline monthly data**",
   "id": "1df5412cf720ec7c"
  },
  {
   "metadata": {
    "ExecuteTime": {
     "end_time": "2025-08-26T14:23:51.002824Z",
     "start_time": "2025-08-26T14:23:50.209671Z"
    }
   },
   "cell_type": "code",
   "source": [
    "monthly_stats = []\n",
    "\n",
    "for month in range(1, 13):\n",
    "    month_str = f\"{month:02d}\"\n",
    "    month_dir = MONTHLY_DIR / month_str\n",
    "    month_dir.mkdir(parents=True, exist_ok=True)\n",
    "\n",
    "    # Filter data for this month\n",
    "    month_loans = loans_df_sorted.loc[loans_df_sorted['month'] == month].drop(columns='month')\n",
    "    month_transactions = transactions_with_month.loc[transactions_with_month['month'] == month].drop(columns='month')\n",
    "\n",
    "    # Save to CSV\n",
    "    month_loans.to_csv(month_dir / 'loan_applications.csv', index=False)\n",
    "    month_transactions.to_csv(month_dir / 'transactions.csv', index=False)\n",
    "\n",
    "    # Calculate stats\n",
    "    fraud_rate = float(month_loans['fraud_flag'].mean()) if len(month_loans) else 0.0\n",
    "    trans_fraud_rate = float(month_transactions['fraud_flag'].mean()) if len(month_transactions) else 0.0\n",
    "\n",
    "    stats = {\n",
    "        'month': month_str,\n",
    "        'loan_count': int(len(month_loans)),\n",
    "        'transaction_count': int(len(month_transactions)),\n",
    "        'loan_fraud_rate': fraud_rate,\n",
    "        'transaction_fraud_rate': trans_fraud_rate,\n",
    "        'drift_applied': 'none'\n",
    "    }\n",
    "    monthly_stats.append(stats)\n",
    "\n",
    "    print(f\"Month {month_str}: {len(month_loans)} loans ({fraud_rate:.3f} fraud), {len(month_transactions)} transactions\")\n",
    "\n",
    "print(\"\\nBaseline monthly splits saved successfully\")"
   ],
   "id": "bed4cce27416513d",
   "outputs": [
    {
     "name": "stdout",
     "output_type": "stream",
     "text": [
      "Month 01: 4167 loans (0.018 fraud), 10640 transactions\n",
      "Month 02: 4167 loans (0.020 fraud), 10315 transactions\n",
      "Month 03: 4167 loans (0.022 fraud), 10336 transactions\n",
      "Month 04: 4167 loans (0.018 fraud), 10490 transactions\n",
      "Month 05: 4167 loans (0.020 fraud), 10521 transactions\n",
      "Month 06: 4167 loans (0.022 fraud), 10330 transactions\n",
      "Month 07: 4167 loans (0.021 fraud), 10460 transactions\n",
      "Month 08: 4167 loans (0.020 fraud), 10437 transactions\n",
      "Month 09: 4166 loans (0.024 fraud), 10547 transactions\n",
      "Month 10: 4166 loans (0.020 fraud), 10361 transactions\n",
      "Month 11: 4166 loans (0.019 fraud), 10498 transactions\n",
      "Month 12: 4166 loans (0.022 fraud), 10346 transactions\n",
      "\n",
      "Baseline monthly splits saved successfully\n"
     ]
    }
   ],
   "execution_count": 16
  },
  {
   "metadata": {},
   "cell_type": "markdown",
   "source": "**Step 5: Define drift simulation functions**",
   "id": "a0c6f0a2a5f7a1f0"
  },
  {
   "metadata": {
    "ExecuteTime": {
     "end_time": "2025-08-26T14:23:54.289446Z",
     "start_time": "2025-08-26T14:23:54.282361Z"
    }
   },
   "cell_type": "code",
   "source": [
    "def apply_feature_drift(df, feature_name, shift_factor=0.3):\n",
    "    \"\"\"Apply distribution shift to a numerical feature\"\"\"\n",
    "    df_drift = df.copy()\n",
    "    if feature_name in df_drift.columns:\n",
    "        mean_val = df_drift[feature_name].mean()\n",
    "        std_val = df_drift[feature_name].std()\n",
    "\n",
    "        # Add systematic shift\n",
    "        noise = np.random.normal(0, std_val * shift_factor, len(df_drift))\n",
    "        df_drift[feature_name] = df_drift[feature_name] + noise\n",
    "\n",
    "        # Keep values in reasonable bounds\n",
    "        df_drift[feature_name] = np.clip(df_drift[feature_name],\n",
    "                                       df_drift[feature_name].min(),\n",
    "                                       df_drift[feature_name].max())\n",
    "    return df_drift\n",
    "\n",
    "def apply_fraud_rate_drift(df, target_fraud_rate=0.04):\n",
    "    \"\"\"Increase fraud rate by converting some non-fraud to fraud\"\"\"\n",
    "    df_drift = df.copy()\n",
    "    current_fraud_rate = df_drift['fraud_flag'].mean()\n",
    "\n",
    "    if target_fraud_rate > current_fraud_rate:\n",
    "        # Calculate how many records to flip\n",
    "        n_to_flip = int((target_fraud_rate - current_fraud_rate) * len(df_drift))\n",
    "\n",
    "        # Select random non-fraud records to flip\n",
    "        non_fraud_indices = df_drift[df_drift['fraud_flag'] == 0].index\n",
    "        if len(non_fraud_indices) >= n_to_flip:\n",
    "            flip_indices = np.random.choice(non_fraud_indices, n_to_flip, replace=False)\n",
    "            df_drift.loc[flip_indices, 'fraud_flag'] = 1\n",
    "\n",
    "    return df_drift\n",
    "\n",
    "def apply_transaction_drift(df, amount_multiplier=1.5):\n",
    "    \"\"\"Modify transaction amounts to simulate spending pattern changes\"\"\"\n",
    "    df_drift = df.copy()\n",
    "    if 'transaction_amount' in df_drift.columns:\n",
    "        # Apply multiplier with some randomness\n",
    "        multipliers = np.random.normal(amount_multiplier, 0.2, len(df_drift))\n",
    "        multipliers = np.clip(multipliers, 0.5, 3.0)  # Keep reasonable bounds\n",
    "        df_drift['transaction_amount'] = df_drift['transaction_amount'] * multipliers\n",
    "    return df_drift\n",
    "\n",
    "print(\"Drift simulation functions defined\")\n"
   ],
   "id": "653d72ae07ed7150",
   "outputs": [
    {
     "name": "stdout",
     "output_type": "stream",
     "text": [
      "Drift simulation functions defined\n"
     ]
    }
   ],
   "execution_count": 17
  },
  {
   "metadata": {},
   "cell_type": "markdown",
   "source": "**Step 6: Apply controlled drift to months**",
   "id": "6647a28b7de62751"
  },
  {
   "metadata": {},
   "cell_type": "markdown",
   "source": [
    "Different types of drifts are applied to months 6, 9 and 11. These scenarios could trigger retraining.\n",
    "In month 6, a feature distribution drift is tested. The debt_to_income_ratio is shifted.\n",
    "In month 9, the fraud rate is increased to test performance-based retraining.\n",
    "In month 11, the transaction amounts are increased and there is a demographic shift"
   ],
   "id": "79fed4383479a33f"
  },
  {
   "metadata": {
    "ExecuteTime": {
     "end_time": "2025-08-26T14:24:29.698945Z",
     "start_time": "2025-08-26T14:24:29.625673Z"
    }
   },
   "cell_type": "code",
   "source": [
    "# Month 6: Feature distribution drift (economic conditions change)\n",
    "month_6_path = MONTHLY_DIR / '06'\n",
    "loans_6 = pd.read_csv(month_6_path / 'loan_applications.csv')\n",
    "transactions_6 = pd.read_csv(month_6_path / 'transactions.csv')\n",
    "\n",
    "# Apply debt-to-income ratio shift (economic stress)\n",
    "loans_6_drift = apply_feature_drift(loans_6, 'debt_to_income_ratio', shift_factor=0.4)\n",
    "\n",
    "# Save drifted data\n",
    "loans_6_drift.to_csv(month_6_path / 'loan_applications.csv', index=False)\n",
    "\n",
    "# Update stats\n",
    "monthly_stats[5]['drift_applied'] = 'feature_drift_debt_to_income'\n",
    "monthly_stats[5]['loan_fraud_rate'] = loans_6_drift['fraud_flag'].mean()\n",
    "\n",
    "print(f\"Month 06 drift applied: debt_to_income_ratio distribution shift\")"
   ],
   "id": "cdebee28248965af",
   "outputs": [
    {
     "name": "stdout",
     "output_type": "stream",
     "text": [
      "Month 06 drift applied: debt_to_income_ratio distribution shift\n"
     ]
    }
   ],
   "execution_count": 19
  },
  {
   "metadata": {
    "ExecuteTime": {
     "end_time": "2025-08-26T14:24:46.015119Z",
     "start_time": "2025-08-26T14:24:45.915052Z"
    }
   },
   "cell_type": "code",
   "source": [
    "# Month 9: Fraud rate increase\n",
    "month_9_path = MONTHLY_DIR / '09'\n",
    "loans_9 = pd.read_csv(month_9_path / 'loan_applications.csv')\n",
    "transactions_9 = pd.read_csv(month_9_path / 'transactions.csv')\n",
    "\n",
    "# Increase fraud rate significantly\n",
    "loans_9_drift = apply_fraud_rate_drift(loans_9, target_fraud_rate=0.045)\n",
    "transactions_9_drift = apply_fraud_rate_drift(transactions_9, target_fraud_rate=0.025)\n",
    "\n",
    "# Save drifted data\n",
    "loans_9_drift.to_csv(month_9_path / 'loan_applications.csv', index=False)\n",
    "transactions_9_drift.to_csv(month_9_path / 'transactions.csv', index=False)\n",
    "\n",
    "# Update stats\n",
    "monthly_stats[8]['drift_applied'] = 'fraud_rate_increase'\n",
    "monthly_stats[8]['loan_fraud_rate'] = loans_9_drift['fraud_flag'].mean()\n",
    "monthly_stats[8]['transaction_fraud_rate'] = transactions_9_drift['fraud_flag'].mean()\n",
    "\n",
    "print(f\"Month 09 drift applied: fraud rate increased to {loans_9_drift['fraud_flag'].mean():.3f}\")"
   ],
   "id": "fc1ba24a833326b0",
   "outputs": [
    {
     "name": "stdout",
     "output_type": "stream",
     "text": [
      "Month 09 drift applied: fraud rate increased to 0.045\n"
     ]
    }
   ],
   "execution_count": 20
  },
  {
   "metadata": {
    "ExecuteTime": {
     "end_time": "2025-08-26T14:24:55.963084Z",
     "start_time": "2025-08-26T14:24:55.860619Z"
    }
   },
   "cell_type": "code",
   "source": [
    "# Month 11: Transaction behavior change\n",
    "month_11_path = MONTHLY_DIR / '11'\n",
    "loans_11 = pd.read_csv(month_11_path / 'loan_applications.csv')\n",
    "transactions_11 = pd.read_csv(month_11_path / 'transactions.csv')\n",
    "\n",
    "# Apply transaction amount drift\n",
    "transactions_11_drift = apply_transaction_drift(transactions_11, amount_multiplier=1.8)\n",
    "\n",
    "# Also apply mild feature drift to applicant age (demographic shift)\n",
    "loans_11_drift = apply_feature_drift(loans_11, 'applicant_age', shift_factor=0.3)\n",
    "\n",
    "# Save drifted data\n",
    "loans_11_drift.to_csv(month_11_path / 'loan_applications.csv', index=False)\n",
    "transactions_11_drift.to_csv(month_11_path / 'transactions.csv', index=False)\n",
    "\n",
    "# Update stats\n",
    "monthly_stats[10]['drift_applied'] = 'transaction_behavior_and_demographics'\n",
    "monthly_stats[10]['loan_fraud_rate'] = loans_11_drift['fraud_flag'].mean()\n",
    "monthly_stats[10]['transaction_fraud_rate'] = transactions_11_drift['fraud_flag'].mean()\n",
    "\n",
    "print(f\"Month 11 drift applied: transaction amounts increased, demographic shift\")"
   ],
   "id": "19652ec9b0b5376d",
   "outputs": [
    {
     "name": "stdout",
     "output_type": "stream",
     "text": [
      "Month 11 drift applied: transaction amounts increased, demographic shift\n"
     ]
    }
   ],
   "execution_count": 21
  },
  {
   "metadata": {},
   "cell_type": "markdown",
   "source": "**Step 7: Create dift summary**",
   "id": "89b19e600614fdd5"
  },
  {
   "metadata": {
    "ExecuteTime": {
     "end_time": "2025-08-26T14:27:44.663522Z",
     "start_time": "2025-08-26T14:27:44.642002Z"
    }
   },
   "cell_type": "code",
   "source": [
    "monthly_stats_df = pd.DataFrame(monthly_stats)\n",
    "\n",
    "print(\"DRIFT SIMULATION SUMMARY\")\n",
    "print(\"=\" * 50)\n",
    "print(f\"Total months created: {len(monthly_stats_df)}\")\n",
    "print(f\"Months with drift: {len(monthly_stats_df[monthly_stats_df['drift_applied'] != 'none'])}\")\n",
    "print()\n",
    "\n",
    "print(\"MONTHLY STATISTICS:\")\n",
    "print(monthly_stats_df[['month', 'loan_count', 'loan_fraud_rate', 'drift_applied']].to_string(index=False))\n",
    "\n",
    "print(\"\\nDRIFT DETAILS:\")\n",
    "drift_months = monthly_stats_df[monthly_stats_df['drift_applied'] != 'none']\n",
    "for _, row in drift_months.iterrows():\n",
    "    print(f\"Month {row['month']}: {row['drift_applied']} (fraud rate: {row['loan_fraud_rate']:.3f})\")\n",
    "\n",
    "# JSON-safe Python objects for monthly stats\n",
    "monthly_stats_records = monthly_stats_df.to_dict(orient='records')\n",
    "\n",
    "# Save summary to JSON\n",
    "summary_data = {\n",
    "    'simulation_date': datetime.now().isoformat(),\n",
    "    'total_months': 12,\n",
    "    'baseline_fraud_rate': float(loans_df['fraud_flag'].mean()),\n",
    "    'drift_months': {\n",
    "        '06': 'feature_drift_debt_to_income',\n",
    "        '09': 'fraud_rate_increase',\n",
    "        '11': 'transaction_behavior_and_demographics'\n",
    "    },\n",
    "    'monthly_stats': monthly_stats_records\n",
    "}\n",
    "\n",
    "summary_path = MONTHLY_DIR / 'simulation_summary.json'\n",
    "summary_path.write_text(json.dumps(summary_data, indent=2), encoding='utf-8')\n",
    "\n",
    "print(f\"\\nSimulation summary saved to: {summary_path}\")"
   ],
   "id": "11249c3d9f1f7788",
   "outputs": [
    {
     "name": "stdout",
     "output_type": "stream",
     "text": [
      "DRIFT SIMULATION SUMMARY\n",
      "==================================================\n",
      "Total months created: 12\n",
      "Months with drift: 3\n",
      "\n",
      "MONTHLY STATISTICS:\n",
      "month  loan_count  loan_fraud_rate                         drift_applied\n",
      "   01        4167         0.017999                                  none\n",
      "   02        4167         0.019918                                  none\n",
      "   03        4167         0.021838                                  none\n",
      "   04        4167         0.018479                                  none\n",
      "   05        4167         0.020158                                  none\n",
      "   06        4167         0.022318          feature_drift_debt_to_income\n",
      "   07        4167         0.020878                                  none\n",
      "   08        4167         0.019678                                  none\n",
      "   09        4166         0.044887                   fraud_rate_increase\n",
      "   10        4166         0.019923                                  none\n",
      "   11        4166         0.019443 transaction_behavior_and_demographics\n",
      "   12        4166         0.021843                                  none\n",
      "\n",
      "DRIFT DETAILS:\n",
      "Month 06: feature_drift_debt_to_income (fraud rate: 0.022)\n",
      "Month 09: fraud_rate_increase (fraud rate: 0.045)\n",
      "Month 11: transaction_behavior_and_demographics (fraud rate: 0.019)\n",
      "\n",
      "Simulation summary saved to: C:\\Users\\lvand\\PycharmProjects\\fraud-detection-mlops\\data\\monthly\\simulation_summary.json\n"
     ]
    }
   ],
   "execution_count": 25
  },
  {
   "metadata": {},
   "cell_type": "markdown",
   "source": "**Step 8: Validate drift simulation results**",
   "id": "75704758d23f965e"
  },
  {
   "metadata": {
    "ExecuteTime": {
     "end_time": "2025-08-26T14:44:36.347254Z",
     "start_time": "2025-08-26T14:44:36.285123Z"
    }
   },
   "cell_type": "code",
   "source": [
    "print(\"DRIFT VALIDATION\")\n",
    "print(\"=\" * 30)\n",
    "\n",
    "validation_results = []\n",
    "\n",
    "# Month 06: Feature drift validation\n",
    "loans_06_orig = loans_df_sorted[loans_df_sorted['month'] == 6]\n",
    "loans_06_drift = pd.read_csv(MONTHLY_DIR / '06' / 'loan_applications.csv')\n",
    "\n",
    "debt_ratio_change = (\n",
    "    loans_06_drift['debt_to_income_ratio'].mean()\n",
    "    - loans_06_orig['debt_to_income_ratio'].mean()\n",
    ")\n",
    "print(f\"Month 06 - Debt-to-income ratio change: {debt_ratio_change:.3f}\")\n",
    "validation_results.append(('Month_06_feature_drift', abs(debt_ratio_change) > 0.01))\n",
    "\n",
    "# Month 09: Fraud rate validation\n",
    "loans_09_drift = pd.read_csv(MONTHLY_DIR / '09' / 'loan_applications.csv')\n",
    "fraud_rate_09 = loans_09_drift['fraud_flag'].mean()\n",
    "print(f\"Month 09 - New fraud rate: {fraud_rate_09:.3f} (target: >0.04)\")\n",
    "validation_results.append(('Month_09_fraud_increase', fraud_rate_09 > 0.04))\n",
    "\n",
    "# Month 11: Transaction drift validation\n",
    "trans_11_orig = transactions_with_month[transactions_with_month['month'] == 11]\n",
    "trans_11_drift = pd.read_csv(MONTHLY_DIR / '11' / 'transactions.csv')\n",
    "\n",
    "amount_change = (\n",
    "    trans_11_drift['transaction_amount'].mean()\n",
    "    / trans_11_orig['transaction_amount'].mean()\n",
    ")\n",
    "print(f\"Month 11 - Transaction amount multiplier: {amount_change:.2f}\")\n",
    "validation_results.append(('Month_11_transaction_drift', amount_change > 1.3))\n",
    "\n",
    "# Overall validation\n",
    "all_passed = all(result[1] for result in validation_results)\n",
    "print(f\"\\nDrift simulation validation: {'PASSED' if all_passed else 'FAILED'}\")\n",
    "\n",
    "if all_passed:\n",
    "    print(\"SUCCESS: All drift simulations applied correctly\")\n",
    "    print(\"MLOps system will have realistic drift to detect and respond to!\")\n",
    "else:\n",
    "    print(\"WARNING: Some drift simulations may need adjustment\")"
   ],
   "id": "a709fa353359bf46",
   "outputs": [
    {
     "name": "stdout",
     "output_type": "stream",
     "text": [
      "DRIFT VALIDATION\n",
      "==============================\n",
      "Month 06 - Debt-to-income ratio change: 0.065\n",
      "Month 09 - New fraud rate: 0.045 (target: >0.04)\n",
      "Month 11 - Transaction amount multiplier: 1.80\n",
      "\n",
      "Drift simulation validation: PASSED\n",
      "SUCCESS: All drift simulations applied correctly\n",
      "MLOps system will have realistic drift to detect and respond to!\n"
     ]
    }
   ],
   "execution_count": 27
  },
  {
   "metadata": {},
   "cell_type": "markdown",
   "source": "**Step 9. Verification**",
   "id": "1e5491ed9bc530fe"
  },
  {
   "metadata": {
    "ExecuteTime": {
     "end_time": "2025-08-26T14:45:01.023120Z",
     "start_time": "2025-08-26T14:45:00.597383Z"
    }
   },
   "cell_type": "code",
   "source": [
    "# Check directory structure\n",
    "months_created = []\n",
    "for month_num in range(1, 13):\n",
    "    month_str = f\"{month_num:02d}\"\n",
    "    month_path = MONTHLY_DIR / month_str\n",
    "\n",
    "    loan_file = month_path / 'loan_applications.csv'\n",
    "    trans_file = month_path / 'transactions.csv'\n",
    "\n",
    "    if loan_file.exists() and trans_file.exists():\n",
    "        loan_count = len(pd.read_csv(loan_file))\n",
    "        trans_count = len(pd.read_csv(trans_file))\n",
    "        months_created.append(f\"Month {month_str}: {loan_count} loans, {trans_count} transactions\")\n",
    "\n",
    "print(\"Directory structure verification:\")\n",
    "for month_info in months_created:\n",
    "    print(f\"  {month_info}\")\n",
    "\n",
    "print(f\"\\nTotal files created: {len(months_created) * 2}\")\n",
    "print(f\"Summary file: {(MONTHLY_DIR / 'simulation_summary.json').exists()}\")"
   ],
   "id": "fea12460aca3c551",
   "outputs": [
    {
     "name": "stdout",
     "output_type": "stream",
     "text": [
      "Directory structure verification:\n",
      "  Month 01: 4167 loans, 10640 transactions\n",
      "  Month 02: 4167 loans, 10315 transactions\n",
      "  Month 03: 4167 loans, 10336 transactions\n",
      "  Month 04: 4167 loans, 10490 transactions\n",
      "  Month 05: 4167 loans, 10521 transactions\n",
      "  Month 06: 4167 loans, 10330 transactions\n",
      "  Month 07: 4167 loans, 10460 transactions\n",
      "  Month 08: 4167 loans, 10437 transactions\n",
      "  Month 09: 4166 loans, 10547 transactions\n",
      "  Month 10: 4166 loans, 10361 transactions\n",
      "  Month 11: 4166 loans, 10498 transactions\n",
      "  Month 12: 4166 loans, 10346 transactions\n",
      "\n",
      "Total files created: 24\n",
      "Summary file: True\n"
     ]
    }
   ],
   "execution_count": 29
  }
 ],
 "metadata": {
  "kernelspec": {
   "display_name": "Python 3",
   "language": "python",
   "name": "python3"
  },
  "language_info": {
   "codemirror_mode": {
    "name": "ipython",
    "version": 2
   },
   "file_extension": ".py",
   "mimetype": "text/x-python",
   "name": "python",
   "nbconvert_exporter": "python",
   "pygments_lexer": "ipython2",
   "version": "2.7.6"
  }
 },
 "nbformat": 4,
 "nbformat_minor": 5
}
